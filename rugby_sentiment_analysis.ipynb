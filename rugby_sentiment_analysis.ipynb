{
 "cells": [
  {
   "cell_type": "code",
   "execution_count": 79,
   "metadata": {},
   "outputs": [],
   "source": [
    "# Import libraries\n",
    "import pandas as pd\n",
    "import google.auth\n",
    "from googleapiclient.discovery import build\n",
    "from dotenv import load_dotenv\n",
    "import os\n",
    "\n",
    "# Import api key and video id\n",
    "load_dotenv()\n",
    "api_key = os.getenv('API_KEY')\n",
    "video_id = os.getenv('VIDEO_ID')"
   ]
  },
  {
   "cell_type": "code",
   "execution_count": 81,
   "metadata": {},
   "outputs": [],
   "source": [
    "def video_comments(video_id):\n",
    "\t# Create a list to store comments\n",
    "\tcomments_data = []\n",
    "\n",
    "\t# Create YouTube resource object\n",
    "\tyoutube = build('youtube', 'v3', developerKey=api_key)\n",
    "\n",
    "\t# Retrieve YouTube video results\n",
    "\tvideo_response=youtube.commentThreads().list(\n",
    "\tpart='snippet,replies',\n",
    "\tvideoId=video_id\n",
    "\t).execute()\n",
    "\n",
    "\t# Iterate through video results\n",
    "\twhile video_response:\n",
    "\t\n",
    "\t\t# Extract information from each object\n",
    "\t\tfor item in video_response['items']:\n",
    "\t\t\n",
    "\t\t\t# Extract comments\n",
    "\t\t\tcomment = item['snippet']['topLevelComment']['snippet']['textDisplay']\n",
    "\t\t\t\n",
    "\t\t\t# Count number of replies on each comment\n",
    "\t\t\treplycount = item['snippet']['totalReplyCount']\n",
    "\n",
    "\t\t\t# Save replies if there is one\n",
    "\t\t\tif replycount>0:\n",
    "\t\t\t\treplies = [reply['snippet']['textDisplay'] for reply in item['replies']['comments']]\n",
    "\t\t\telse:\n",
    "\t\t\t\treplies = []\n",
    "\n",
    "\t\t\tcomments_data.append({'Comment': comment, 'Replies': replies})\n",
    "\n",
    "\t\t# Repeat for next page\n",
    "\t\tif 'nextPageToken' in video_response:\n",
    "\t\t\tvideo_response = youtube.commentThreads().list(\n",
    "\t\t\t\t\tpart = 'snippet,replies',\n",
    "\t\t\t\t\tvideoId = video_id,\n",
    "\t\t\t\t\tpageToken = video_response['nextPageToken']\n",
    "\t\t\t\t).execute()\n",
    "\t\telse:\n",
    "\t\t\tbreak\n",
    "\n",
    "\t# Create DataFrame containing comments and replies\n",
    "\tdf = pd.DataFrame(comments_data)\n",
    "\n",
    "\t# Create a column counting number of replies for that comment\n",
    "\tdf['Reply_Count'] = df['Replies'].apply(len)\n",
    "\n",
    "\treturn df\n",
    "\n",
    "# Create DataFrame containing comments and replies from video\n",
    "comments_df = video_comments(video_id)"
   ]
  },
  {
   "cell_type": "code",
   "execution_count": 82,
   "metadata": {},
   "outputs": [
    {
     "name": "stdout",
     "output_type": "stream",
     "text": [
      "Comments: 216, Replies: 112, Total: 328\n"
     ]
    },
    {
     "data": {
      "text/html": [
       "<div>\n",
       "<style scoped>\n",
       "    .dataframe tbody tr th:only-of-type {\n",
       "        vertical-align: middle;\n",
       "    }\n",
       "\n",
       "    .dataframe tbody tr th {\n",
       "        vertical-align: top;\n",
       "    }\n",
       "\n",
       "    .dataframe thead th {\n",
       "        text-align: right;\n",
       "    }\n",
       "</style>\n",
       "<table border=\"1\" class=\"dataframe\">\n",
       "  <thead>\n",
       "    <tr style=\"text-align: right;\">\n",
       "      <th></th>\n",
       "      <th>Comment</th>\n",
       "      <th>Replies</th>\n",
       "      <th>Reply_Count</th>\n",
       "    </tr>\n",
       "  </thead>\n",
       "  <tbody>\n",
       "    <tr>\n",
       "      <th>0</th>\n",
       "      <td>Another great 6 nations contest. Hard fought a...</td>\n",
       "      <td>[]</td>\n",
       "      <td>0</td>\n",
       "    </tr>\n",
       "    <tr>\n",
       "      <th>1</th>\n",
       "      <td>Scotland deserved a win! These TMO guys are us...</td>\n",
       "      <td>[]</td>\n",
       "      <td>0</td>\n",
       "    </tr>\n",
       "    <tr>\n",
       "      <th>2</th>\n",
       "      <td>No try. End of story. Don&amp;#39;t blame the ref....</td>\n",
       "      <td>[]</td>\n",
       "      <td>0</td>\n",
       "    </tr>\n",
       "    <tr>\n",
       "      <th>3</th>\n",
       "      <td>Scotland robbed</td>\n",
       "      <td>[]</td>\n",
       "      <td>0</td>\n",
       "    </tr>\n",
       "    <tr>\n",
       "      <th>4</th>\n",
       "      <td>No the Scots understands what South Africa has...</td>\n",
       "      <td>[]</td>\n",
       "      <td>0</td>\n",
       "    </tr>\n",
       "  </tbody>\n",
       "</table>\n",
       "</div>"
      ],
      "text/plain": [
       "                                             Comment Replies  Reply_Count\n",
       "0  Another great 6 nations contest. Hard fought a...      []            0\n",
       "1  Scotland deserved a win! These TMO guys are us...      []            0\n",
       "2  No try. End of story. Don&#39;t blame the ref....      []            0\n",
       "3                                    Scotland robbed      []            0\n",
       "4  No the Scots understands what South Africa has...      []            0"
      ]
     },
     "execution_count": 82,
     "metadata": {},
     "output_type": "execute_result"
    }
   ],
   "source": [
    "print('Comments: {}, Replies: {}, Total: {}'.format(len(comments_df), comments_df['Reply_Count'].sum(), len(comments_df)+comments_df['Reply_Count'].sum()))\n",
    "comments_df.head()\n"
   ]
  }
 ],
 "metadata": {
  "kernelspec": {
   "display_name": "Python 3 (ipykernel)",
   "language": "python",
   "name": "python3"
  },
  "language_info": {
   "codemirror_mode": {
    "name": "ipython",
    "version": 3
   },
   "file_extension": ".py",
   "mimetype": "text/x-python",
   "name": "python",
   "nbconvert_exporter": "python",
   "pygments_lexer": "ipython3",
   "version": "3.12.1"
  }
 },
 "nbformat": 4,
 "nbformat_minor": 4
}
